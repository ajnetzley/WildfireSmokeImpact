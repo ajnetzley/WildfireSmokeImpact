{
 "cells": [
  {
   "cell_type": "markdown",
   "metadata": {},
   "source": [
    "# Wildfire Data Acquisition\n",
    "This notebook contains the code for reading in the complete [Wildfire dataset](https://www.sciencebase.gov/catalog/item/61aa537dd34eb622f699df81), which can be retrieved from a US government repository. It also filters the wildfire data to wildfires occuring within TODO\n",
    "\n",
    "This notebook has dependencies on [Pyproj](https://pyproj4.github.io/pyproj/stable/index.html), the [geojson](https://pypi.org/project/geojson/) module and on the wildfire user module, developed by Dr. David W. McDonald.\n",
    "\n",
    "### License\n",
    "This code was adapted from an example developed by Dr. David W. McDonald for use in DATA 512, a course in the UW MS Data Science degree program. This code is provided under the [Creative Commons](https://creativecommons.org) [CC-BY license](https://creativecommons.org/licenses/by/4.0/). Revision 1.1 - August 16, 2024"
   ]
  },
  {
   "cell_type": "markdown",
   "metadata": {},
   "source": [
    "## Import Libraries"
   ]
  },
  {
   "cell_type": "code",
   "execution_count": 1,
   "metadata": {},
   "outputs": [],
   "source": [
    "import json\n",
    "\n",
    "#    The 'wildfire' module is a user module. \n",
    "from wildfire.Reader import Reader as WFReader"
   ]
  },
  {
   "cell_type": "markdown",
   "metadata": {},
   "source": [
    "## Read the raw wildfire data"
   ]
  },
  {
   "cell_type": "code",
   "execution_count": 2,
   "metadata": {},
   "outputs": [
    {
     "name": "stdout",
     "output_type": "stream",
     "text": [
      "Attempting to open '../data_raw/USGS_Wildland_Fire_Combined_Dataset.json' with wildfire.Reader() object\n"
     ]
    }
   ],
   "source": [
    "# Define the filepath location of the raw data\n",
    "raw_data_filepath = \"../data_raw/USGS_Wildland_Fire_Combined_Dataset.json\"\n",
    "\n",
    "#\n",
    "#    This bit of code opens a new wildfire reader, gets the header information and prints it to the screen\n",
    "#\n",
    "print(f\"Attempting to open '{raw_data_filepath}' with wildfire.Reader() object\")\n",
    "wfreader = WFReader(raw_data_filepath)\n"
   ]
  },
  {
   "cell_type": "code",
   "execution_count": 3,
   "metadata": {},
   "outputs": [
    {
     "name": "stdout",
     "output_type": "stream",
     "text": [
      "Loaded 100 features\n",
      "Loaded 200 features\n",
      "Loaded 300 features\n",
      "Loaded 400 features\n",
      "Loaded 500 features\n",
      "Loaded 600 features\n",
      "Loaded 700 features\n",
      "Loaded 800 features\n",
      "Loaded 900 features\n",
      "Loaded 1000 features\n",
      "Loaded a total of 1000 features\n",
      "Variable 'feature_list' contains 1000 features\n"
     ]
    }
   ],
   "source": [
    "\n",
    "#    Load the data using the wildfire module, and create a feature_list object containing the loaded data\n",
    "\n",
    "# We load in the entire dataset to start, which consisted of 135,061 fires\n",
    "MAX_FEATURE_LOAD = 1000 #TODO change this to the full dataset\n",
    "feature_list = list()\n",
    "feature_count = 0\n",
    "\n",
    "# A rewind() on the reader object makes sure we're at the start of the feature list\n",
    "# This way, we can execute this cell multiple times and get the same result \n",
    "wfreader.rewind()\n",
    "# Now, read through each of the features, saving them as dictionaries into a list\n",
    "feature = wfreader.next()\n",
    "while feature:\n",
    "    feature_list.append(feature)\n",
    "    feature_count += 1\n",
    "    # if we're loading a lot of features, print progress\n",
    "    if (feature_count % 100) == 0:\n",
    "        print(f\"Loaded {feature_count} features\")\n",
    "    # loaded the max we're allowed then break\n",
    "    if feature_count >= MAX_FEATURE_LOAD:\n",
    "        break\n",
    "    feature = wfreader.next()\n",
    "#\n",
    "#    Print the number of items (features) we think we loaded\n",
    "print(f\"Loaded a total of {feature_count} features\")\n",
    "#\n",
    "#    Just a validation check - did all the items we loaded get into the list?\n",
    "print(f\"Variable 'feature_list' contains {len(feature_list)} features\")"
   ]
  },
  {
   "cell_type": "code",
   "execution_count": 5,
   "metadata": {},
   "outputs": [],
   "source": [
    "with open(\"../data_intermediate/full_wildfires_SMALL.json\", \"w\") as file: #TODO Change this when running the full dataset\n",
    "    json.dump(feature_list, file, indent=4)"
   ]
  }
 ],
 "metadata": {
  "kernelspec": {
   "display_name": "DATA557",
   "language": "python",
   "name": "python3"
  },
  "language_info": {
   "codemirror_mode": {
    "name": "ipython",
    "version": 3
   },
   "file_extension": ".py",
   "mimetype": "text/x-python",
   "name": "python",
   "nbconvert_exporter": "python",
   "pygments_lexer": "ipython3",
   "version": "3.10.13"
  }
 },
 "nbformat": 4,
 "nbformat_minor": 2
}
