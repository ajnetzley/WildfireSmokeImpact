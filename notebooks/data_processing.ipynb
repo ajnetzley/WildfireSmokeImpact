{
 "cells": [
  {
   "cell_type": "markdown",
   "metadata": {},
   "source": [
    "# Data Processing\n",
    "This notebook contains the code for processing the wildfire and AQI data, namely loading the wildfire data, filtering down based on our three part criteria (defined below),generating smoke estimates (metric also defined below) and comparing our smoke estimates to that of the AQI historical data."
   ]
  },
  {
   "cell_type": "markdown",
   "metadata": {},
   "source": [
    "## Importing Libraries"
   ]
  },
  {
   "cell_type": "code",
   "execution_count": 5,
   "metadata": {},
   "outputs": [],
   "source": [
    "import json\n",
    "import pandas as pd\n",
    "import matplotlib.pyplot as plt\n",
    "\n",
    "from pyproj import Transformer, Geod\n",
    "\n",
    "#    The 'wildfire' module is a user module. \n",
    "#from wildfire.Reader import Reader as WFReader"
   ]
  },
  {
   "cell_type": "markdown",
   "metadata": {},
   "source": [
    "## Loading the Data"
   ]
  },
  {
   "cell_type": "code",
   "execution_count": 2,
   "metadata": {},
   "outputs": [],
   "source": [
    "with open(\"../data_intermediate/full_wildfires.json\", \"r\") as file:\n",
    "    full_wildfires_raw = json.load(file)"
   ]
  },
  {
   "cell_type": "markdown",
   "metadata": {},
   "source": [
    "## Filter the wildfire data to include only relevant fires\n",
    "Relevant fires are fires:\n",
    "\n",
    "1.) That occured in the last 60 years of wildland fire data (1961-2021)\n",
    "\n",
    "2.) That occured within the fire season of May 1st through October 31st\n",
    "\n",
    "3.) Whose centroid is within 650 Miles of Norman, OK"
   ]
  },
  {
   "cell_type": "code",
   "execution_count": 3,
   "metadata": {},
   "outputs": [],
   "source": [
    "# Filter to fires after 1961 \n",
    "wildfires_post_1961 = [fire for fire in full_wildfires_raw if fire[\"attributes\"][\"Fire_Year\"] >= 1961] #TODO update year\n",
    "\n",
    "# Filter to something to do with fires in the fire season?\n",
    "# TODO\n",
    "wildfires_filtered = wildfires_post_1961\n",
    "\n"
   ]
  },
  {
   "cell_type": "markdown",
   "metadata": {},
   "source": [
    "### Computing the average distance of the fire to Norman"
   ]
  },
  {
   "cell_type": "code",
   "execution_count": 4,
   "metadata": {},
   "outputs": [],
   "source": [
    "### Helper Functions ###\n",
    "\n",
    "#\n",
    "#    Transform feature geometry data\n",
    "#\n",
    "#    The function takes one parameter, a list of ESRI:102008 coordinates that will be transformed to EPSG:4326\n",
    "#    The function returns a list of coordinates in EPSG:4326\n",
    "def convert_ring_to_epsg4326(ring_data=None):\n",
    "    converted_ring = list()\n",
    "    #\n",
    "    # We use a pyproj transformer that converts from ESRI:102008 to EPSG:4326 to transform the list of coordinates\n",
    "    to_epsg4326 = Transformer.from_crs(\"ESRI:102008\",\"EPSG:4326\")\n",
    "    # We'll run through the list transforming each ESRI:102008 x,y coordinate into a decimal degree lat,lon\n",
    "    for coord in ring_data:\n",
    "        lat,lon = to_epsg4326.transform(coord[0],coord[1])\n",
    "        new_coord = lat,lon\n",
    "        converted_ring.append(new_coord)\n",
    "    return converted_ring\n",
    "\n",
    "#    \n",
    "#    The function takes two parameters\n",
    "#        A place - which is coordinate point (list or tuple with two items, (lat,lon) in decimal degrees EPSG:4326\n",
    "#        Ring_data - a list of decimal degree coordinates for the fire boundary\n",
    "#\n",
    "#    The function returns the average miles from boundary to the place\n",
    "#\n",
    "def average_distance_from_place_to_fire_perimeter(place=None,ring_data=None):\n",
    "    # convert the ring data to the right coordinate system\n",
    "    ring = convert_ring_to_epsg4326(ring_data)    \n",
    "    # create a epsg4326 compliant object - which is what the WGS84 ellipsoid is\n",
    "    geodcalc = Geod(ellps='WGS84')\n",
    "    # create a list to store our results\n",
    "    distances_in_meters = list()\n",
    "    # run through each point in the converted ring data\n",
    "    for point in ring:\n",
    "        # calculate the distance\n",
    "        d = geodcalc.inv(place[1],place[0],point[1],point[0])\n",
    "        distances_in_meters.append(d[2])\n",
    "    #print(\"Got the following list:\",distances_in_meters)\n",
    "    # convert meters to miles\n",
    "    distances_in_miles = [meters*0.00062137 for meters in distances_in_meters]\n",
    "    # the esri polygon shape (the ring) requires that the first and last coordinates be identical to 'close the region\n",
    "    # we remove one of them so that we don't bias our average by having two of the same point\n",
    "    distances_in_miles_no_dup = distances_in_miles[1:]\n",
    "    # now, average miles\n",
    "    average = sum(distances_in_miles_no_dup)/len(distances_in_miles_no_dup)\n",
    "    return average"
   ]
  },
  {
   "cell_type": "markdown",
   "metadata": {},
   "source": [
    "Compute the distances, and filter to only include fires within 650 miles of Norman"
   ]
  },
  {
   "cell_type": "code",
   "execution_count": 5,
   "metadata": {},
   "outputs": [
    {
     "name": "stdout",
     "output_type": "stream",
     "text": [
      "0\n",
      "10000\n",
      "20000\n",
      "30000\n",
      "40000\n",
      "50000\n",
      "60000\n",
      "70000\n",
      "80000\n",
      "90000\n",
      "100000\n",
      "110000\n"
     ]
    }
   ],
   "source": [
    "#Define Norman Location\n",
    "norman = {'city'   : 'Norman',\n",
    "        'latlon' : [35.24, -97.35] }\n",
    "\n",
    "# Filter to only include fires where the average distance is within 650 miles of Norman, OK\n",
    "wildfires_near_norman = []\n",
    "for index, fire in enumerate(wildfires_filtered):\n",
    "    if index % 10000 == 0:\n",
    "        print(index)\n",
    "\n",
    "    # Compute the Distance, if ring data exists\n",
    "    if 'rings' in fire['geometry']:\n",
    "        distance = average_distance_from_place_to_fire_perimeter(place=norman['latlon'],ring_data=fire['geometry']['rings'][0])\n",
    "        #print(f\"Fire '{fire['attributes']['Listed_Fire_Names'].split(',')[0]}' ({fire['attributes']['GIS_Acres']:1.2f} acres) from {fire['attributes']['Fire_Year']} was an average {distance:1.2f} miles to {norman['city']}\")\n",
    "        \n",
    "        #Store the fire if it is within 650 miles\n",
    "        if distance <= 650: \n",
    "            fire['attributes']['distance_from_norman'] = distance\n",
    "            wildfires_near_norman.append(fire['attributes'])\n",
    "    "
   ]
  },
  {
   "cell_type": "markdown",
   "metadata": {},
   "source": [
    "## Wildfire Smoke Estimates\n",
    "Generate smoke estimates for Norman from all of the wildfires in our filtered dataset.\n",
    "\n",
    "First, we assign a Smoke Contibution, \"SC\", score that is defined as the product of two normalized features, Distance Impact (\"D\") * Acreage Impact (\"A\")\n",
    "#### SC = D * A\n",
    "\n",
    "#### 1.) Distance Impact, \"D\"\n",
    "The Distance Impact is defined as (650 - Miles from Norman)/650. All values in our dataset take a value between 0 and 1.\n",
    "\n",
    "Here, we assume that a fire with a distance of 0 miles from Norman has the maximum impact, and therefore gets a \"Distance Impact\" of 1, while a fire on the outer boundary of our cutoff (at 650 miles) has a \"Distance Impact\" of 0. This formula assumes that there is a linear relationship between smoke contribution and distance from Norman, and that a fire past 650 miles has zero impact, both of which we know are likely not completely true, but we belive can make for useful simplifications.\n",
    "\n",
    "#### 2.) Acreage Impact, \"A\"\n",
    "The Acreage Impact is defined as (this_fire_acreage)/(max_fire_acreage). All values in our dataset take a value between 0 and 1.\n",
    "\n",
    "Here, we assume that a fire with a the largest acreage has the maximum impact, and therefore gets a \"Acreage Impact\" of 1, while a fire with 0 acreage (i.e. not a fire) has a \"Acreage Impact\" of 0. Similar to above, this formula assumes that there is a linear relationship between smoke contribution and fire acreage.\n",
    "\n",
    "\n",
    "Overall, this formula for smoke contribution makes a variety of simplifications and assumptions beyond just those listed above, including the assumption that fire duration has no impact on smoke, and additionally that fires from all directions have the same impact (but we don't have wind information, so not much we can do here).\n"
   ]
  },
  {
   "cell_type": "code",
   "execution_count": 6,
   "metadata": {},
   "outputs": [],
   "source": [
    "#Define the smoke impace metric\n",
    "def get_smoke_contribution(fire, max_acres):\n",
    "\n",
    "    # Extract distance and compute Distance Impact\n",
    "    distance = fire['distance_from_norman']\n",
    "    d = (650 - distance)/650\n",
    "\n",
    "    # Extract acreage and compute Acreage Impact\n",
    "    acres = fire['GIS_Acres']\n",
    "    a = acres/max_acres\n",
    "\n",
    "    # Compute combined smoke impact\n",
    "    sc = d*a\n",
    "    \n",
    "    return sc"
   ]
  },
  {
   "cell_type": "code",
   "execution_count": 7,
   "metadata": {},
   "outputs": [
    {
     "name": "stdout",
     "output_type": "stream",
     "text": [
      "{\n",
      "    \"OBJECTID\": 13816,\n",
      "    \"USGS_Assigned_ID\": 13816,\n",
      "    \"Assigned_Fire_Type\": \"Wildfire\",\n",
      "    \"Fire_Year\": 1961,\n",
      "    \"Fire_Polygon_Tier\": 1,\n",
      "    \"Fire_Attribute_Tiers\": \"1 (1), 3 (1)\",\n",
      "    \"GIS_Acres\": 4.840703345537484,\n",
      "    \"GIS_Hectares\": 1.9589631422821538,\n",
      "    \"Source_Datasets\": \"Comb_National_NIFC_Interagency_Fire_Perimeter_History (1), Comb_National_USFS_Final_Fire_Perimeter (1)\",\n",
      "    \"Listed_Fire_Types\": \"Wildfire (2)\",\n",
      "    \"Listed_Fire_Names\": \"No Fire Name Provided (2)\",\n",
      "    \"Listed_Fire_Codes\": \"No code provided (2)\",\n",
      "    \"Listed_Fire_IDs\": \"\",\n",
      "    \"Listed_Fire_IRWIN_IDs\": \"\",\n",
      "    \"Listed_Fire_Dates\": \"Listed Other Fire Date(s): 2018-05-02 - NIFC DATE_CUR field (1), 2018-05-02 - REVDATE field (1)\",\n",
      "    \"Listed_Fire_Causes\": \"\",\n",
      "    \"Listed_Fire_Cause_Class\": \"Undetermined (2)\",\n",
      "    \"Listed_Rx_Reported_Acres\": null,\n",
      "    \"Listed_Map_Digitize_Methods\": \"Digitized Other (1)\",\n",
      "    \"Listed_Notes\": \"Digitized from historic fire atlases (2)\",\n",
      "    \"Processing_Notes\": \"\",\n",
      "    \"Wildfire_Notice\": \"Wildfire mapping prior to 1984 was inconsistent, infrequent, and done without the aid of more modern fire mapping methods (GPS and satellite imagery). Areas burned prior to 1984 in this dataset represent only a fraction of what actually burned. While areas burned on or after 1984 are much more accurate and complete, errors still can and do occur. This dataset represents the most complete set of digitized polygon fire data available to the public that we, the authors, were able to collect. It is not a complete collection of all wildfires burned during the time period it represents.\",\n",
      "    \"Prescribed_Burn_Notice\": \"Prescribed fire data in this dataset represents only a fraction of the area burned in prescribed burns across all years due to lack of reporting, particularly on private lands. The missing prescribed burn data becomes more pronounced further back in time, particularly in the southeastern U.S.; however, errors and omissions still occur through the most recent years in this dataset. This dataset represents the most complete set of digitized polygon fire data available to the public that we, the authors, were able to collect. It is not a complete collection of all prescribed burns burned during the time period it represents.\",\n",
      "    \"Wildfire_and_Rx_Flag\": null,\n",
      "    \"Overlap_Within_1_or_2_Flag\": null,\n",
      "    \"Circleness_Scale\": 0.9949384846136042,\n",
      "    \"Circle_Flag\": 1,\n",
      "    \"Exclude_From_Summary_Rasters\": \"Yes\",\n",
      "    \"Shape_Length\": 497.4162276110786,\n",
      "    \"Shape_Area\": 19589.631422821538,\n",
      "    \"distance_from_norman\": 511.7221768432928,\n",
      "    \"Smoke_Impact\": 6.574763461894764e-07\n",
      "}\n"
     ]
    }
   ],
   "source": [
    "# Compute Smoke Impact\n",
    "\n",
    "# Find max acres\n",
    "max_acres = max(wildfires_near_norman, key=lambda x: x[\"GIS_Acres\"])[\"GIS_Acres\"]\n",
    "\n",
    "# Compute Smoke Impact for all of the fires, \n",
    "for index, fire in enumerate(wildfires_near_norman):\n",
    "    wildfires_near_norman[index]['Smoke_Contribution'] = get_smoke_contribution(fire, max_acres)\n",
    "\n",
    "print(json.dumps(wildfires_near_norman[8], indent=4))"
   ]
  },
  {
   "cell_type": "code",
   "execution_count": 8,
   "metadata": {},
   "outputs": [],
   "source": [
    "with open(\"../data_intermediate/norman_wildfires_SI.json\", \"w\") as file: #TODO Change this when running the full dataset\n",
    "    json.dump(wildfires_near_norman, file, indent=4)"
   ]
  },
  {
   "cell_type": "markdown",
   "metadata": {},
   "source": [
    "## Yearly Smoke Estimate\n",
    "\n",
    "To gain a better understanding of the smoke impact on Norman on a year-by-year basis, I will create a new dataset that contains the yearly smoke estimate. The yearly smoke estimate is computed by adding the smoke impact score (SI) of all of the wildfires that occured in a given year. Note that this assumes a cummulative impact, and does not account for periods of higher or lower frequency of fires. Although this analysis does miss out on some higher frequency time impacts, it is able to capture a simplistic and holistic estimatme of the total smoke on a year-by-year basis."
   ]
  },
  {
   "cell_type": "code",
   "execution_count": 2,
   "metadata": {},
   "outputs": [],
   "source": [
    "with open(\"../data_intermediate/norman_wildfires_SI.json\", \"r\") as file: \n",
    "    wildfires_near_norman = json.load(file)"
   ]
  },
  {
   "cell_type": "code",
   "execution_count": null,
   "metadata": {},
   "outputs": [],
   "source": [
    "# Initialize empty dictionary\n",
    "yearly_smoke_estimate = {}\n",
    "\n",
    "# Compute Smoke Impact for all of the fires, \n",
    "for index, fire in enumerate(wildfires_near_norman):\n",
    "    if fire['Fire_Year'] in yearly_smoke_estimate:\n",
    "        yearly_smoke_estimate[fire['Fire_Year']] += fire['Smoke_Contribution']\n",
    "    else:\n",
    "        yearly_smoke_estimate[fire['Fire_Year']] = fire['Smoke_Contribution']"
   ]
  },
  {
   "cell_type": "code",
   "execution_count": 13,
   "metadata": {},
   "outputs": [
    {
     "data": {
      "image/png": "[encoded data removed]",
      "text/plain": [
       "<Figure size 640x480 with 1 Axes>"
      ]
     },
     "metadata": {},
     "output_type": "display_data"
    }
   ],
   "source": [
    "#Exploratory plotting of the smoke estimate\n",
    "yearly_smoke_estimate_df = pd.DataFrame.from_dict(yearly_smoke_estimate, orient='index', columns=['Smoke_Estimate']).reset_index().rename(columns={'index':'Year'})\n",
    "\n",
    "plt.plot(yearly_smoke_estimate_df['Year'], yearly_smoke_estimate_df['Smoke_Estimate'])\n",
    "plt.title(\"Yearly Smoke Estimation\")\n",
    "plt.xlabel(\"Year\")\n",
    "plt.ylabel(\"Smoke Estimate Score\")\n",
    "plt.show()\n"
   ]
  }
 ],
 "metadata": {
  "kernelspec": {
   "display_name": "DATA557",
   "language": "python",
   "name": "python3"
  },
  "language_info": {
   "codemirror_mode": {
    "name": "ipython",
    "version": 3
   },
   "file_extension": ".py",
   "mimetype": "text/x-python",
   "name": "python",
   "nbconvert_exporter": "python",
   "pygments_lexer": "ipython3",
   "version": "3.10.13"
  }
 },
 "nbformat": 4,
 "nbformat_minor": 2
}
